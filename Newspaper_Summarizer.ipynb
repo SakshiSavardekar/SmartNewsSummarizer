{
  "cells": [
    {
      "cell_type": "markdown",
      "source": [
        "# ***SEM VII - COLLABORATIVE PROJECT***\n",
        "### **Team Members:**\n",
        "*   Sakshi Savardekar - 22102A2002\n",
        "*   Anuj Ramane - 22102A2003\n",
        "\n",
        "---\n",
        "\n",
        "\n"
      ],
      "metadata": {
        "id": "JVr_NU92nq7a"
      }
    },
    {
      "cell_type": "markdown",
      "source": [
        "# **Project Title :** Smart News Summarizer\n",
        "\n",
        "---\n",
        "\n"
      ],
      "metadata": {
        "id": "NYT8wmK7oQVj"
      }
    },
    {
      "cell_type": "markdown",
      "source": [
        "# **Installing required packages**"
      ],
      "metadata": {
        "id": "Tjo3Xfvow74n"
      }
    },
    {
      "cell_type": "code",
      "source": [
        "# !pip install PyPDF2\n",
        "!pip install newspaper3k\n",
        "!pip uninstall -y nltk\n",
        "!pip install -U nltk"
      ],
      "metadata": {
        "colab": {
          "base_uri": "https://localhost:8080/"
        },
        "id": "Yf3zEAeqv5wn",
        "outputId": "a45dd703-8354-4ac1-d941-96d2903e62c6"
      },
      "execution_count": 1,
      "outputs": [
        {
          "output_type": "stream",
          "name": "stdout",
          "text": [
            "Requirement already satisfied: newspaper3k in /usr/local/lib/python3.10/dist-packages (0.2.8)\n",
            "Requirement already satisfied: beautifulsoup4>=4.4.1 in /usr/local/lib/python3.10/dist-packages (from newspaper3k) (4.12.3)\n",
            "Requirement already satisfied: Pillow>=3.3.0 in /usr/local/lib/python3.10/dist-packages (from newspaper3k) (10.4.0)\n",
            "Requirement already satisfied: PyYAML>=3.11 in /usr/local/lib/python3.10/dist-packages (from newspaper3k) (6.0.2)\n",
            "Requirement already satisfied: cssselect>=0.9.2 in /usr/local/lib/python3.10/dist-packages (from newspaper3k) (1.2.0)\n",
            "Requirement already satisfied: lxml>=3.6.0 in /usr/local/lib/python3.10/dist-packages (from newspaper3k) (4.9.4)\n",
            "Requirement already satisfied: nltk>=3.2.1 in /usr/local/lib/python3.10/dist-packages (from newspaper3k) (3.9.1)\n",
            "Requirement already satisfied: requests>=2.10.0 in /usr/local/lib/python3.10/dist-packages (from newspaper3k) (2.32.3)\n",
            "Requirement already satisfied: feedparser>=5.2.1 in /usr/local/lib/python3.10/dist-packages (from newspaper3k) (6.0.11)\n",
            "Requirement already satisfied: tldextract>=2.0.1 in /usr/local/lib/python3.10/dist-packages (from newspaper3k) (5.1.2)\n",
            "Requirement already satisfied: feedfinder2>=0.0.4 in /usr/local/lib/python3.10/dist-packages (from newspaper3k) (0.0.4)\n",
            "Requirement already satisfied: jieba3k>=0.35.1 in /usr/local/lib/python3.10/dist-packages (from newspaper3k) (0.35.1)\n",
            "Requirement already satisfied: python-dateutil>=2.5.3 in /usr/local/lib/python3.10/dist-packages (from newspaper3k) (2.8.2)\n",
            "Requirement already satisfied: tinysegmenter==0.3 in /usr/local/lib/python3.10/dist-packages (from newspaper3k) (0.3)\n",
            "Requirement already satisfied: soupsieve>1.2 in /usr/local/lib/python3.10/dist-packages (from beautifulsoup4>=4.4.1->newspaper3k) (2.6)\n",
            "Requirement already satisfied: six in /usr/local/lib/python3.10/dist-packages (from feedfinder2>=0.0.4->newspaper3k) (1.16.0)\n",
            "Requirement already satisfied: sgmllib3k in /usr/local/lib/python3.10/dist-packages (from feedparser>=5.2.1->newspaper3k) (1.0.0)\n",
            "Requirement already satisfied: click in /usr/local/lib/python3.10/dist-packages (from nltk>=3.2.1->newspaper3k) (8.1.7)\n",
            "Requirement already satisfied: joblib in /usr/local/lib/python3.10/dist-packages (from nltk>=3.2.1->newspaper3k) (1.4.2)\n",
            "Requirement already satisfied: regex>=2021.8.3 in /usr/local/lib/python3.10/dist-packages (from nltk>=3.2.1->newspaper3k) (2024.9.11)\n",
            "Requirement already satisfied: tqdm in /usr/local/lib/python3.10/dist-packages (from nltk>=3.2.1->newspaper3k) (4.66.5)\n",
            "Requirement already satisfied: charset-normalizer<4,>=2 in /usr/local/lib/python3.10/dist-packages (from requests>=2.10.0->newspaper3k) (3.4.0)\n",
            "Requirement already satisfied: idna<4,>=2.5 in /usr/local/lib/python3.10/dist-packages (from requests>=2.10.0->newspaper3k) (3.10)\n",
            "Requirement already satisfied: urllib3<3,>=1.21.1 in /usr/local/lib/python3.10/dist-packages (from requests>=2.10.0->newspaper3k) (2.2.3)\n",
            "Requirement already satisfied: certifi>=2017.4.17 in /usr/local/lib/python3.10/dist-packages (from requests>=2.10.0->newspaper3k) (2024.8.30)\n",
            "Requirement already satisfied: requests-file>=1.4 in /usr/local/lib/python3.10/dist-packages (from tldextract>=2.0.1->newspaper3k) (2.1.0)\n",
            "Requirement already satisfied: filelock>=3.0.8 in /usr/local/lib/python3.10/dist-packages (from tldextract>=2.0.1->newspaper3k) (3.16.1)\n",
            "Found existing installation: nltk 3.9.1\n",
            "Uninstalling nltk-3.9.1:\n",
            "  Successfully uninstalled nltk-3.9.1\n",
            "Collecting nltk\n",
            "  Using cached nltk-3.9.1-py3-none-any.whl.metadata (2.9 kB)\n",
            "Requirement already satisfied: click in /usr/local/lib/python3.10/dist-packages (from nltk) (8.1.7)\n",
            "Requirement already satisfied: joblib in /usr/local/lib/python3.10/dist-packages (from nltk) (1.4.2)\n",
            "Requirement already satisfied: regex>=2021.8.3 in /usr/local/lib/python3.10/dist-packages (from nltk) (2024.9.11)\n",
            "Requirement already satisfied: tqdm in /usr/local/lib/python3.10/dist-packages (from nltk) (4.66.5)\n",
            "Using cached nltk-3.9.1-py3-none-any.whl (1.5 MB)\n",
            "Installing collected packages: nltk\n",
            "Successfully installed nltk-3.9.1\n"
          ]
        }
      ]
    },
    {
      "cell_type": "markdown",
      "source": [
        "# **Trying to extract text from Newpaper PDF (Have Issues, so don't use it)**"
      ],
      "metadata": {
        "id": "rDm_JaeIxMBG"
      }
    },
    {
      "cell_type": "code",
      "execution_count": 2,
      "metadata": {
        "id": "LmVpS17ufSfT"
      },
      "outputs": [],
      "source": [
        "# import PyPDF2\n",
        "\n",
        "# def extract_text_from_pdf(pdf_path):\n",
        "#     text = \"\"\n",
        "#     with open(pdf_path, 'rb') as file:\n",
        "#         reader = PyPDF2.PdfReader(file)\n",
        "#         for page_num in range(len(reader.pages)):\n",
        "#             page = reader.pages[page_num]\n",
        "#             text += page.extract_text()\n",
        "#     return text\n",
        "\n",
        "# # Example usage:\n",
        "# pdf_path = '/content/newspaper1.pdf'\n",
        "# raw_text = extract_text_from_pdf(pdf_path)\n",
        "# print(raw_text[:1000])  # Print the first 500 characters to verify\n"
      ]
    },
    {
      "cell_type": "markdown",
      "source": [
        "# **Using NewsData API to get the news articles**"
      ],
      "metadata": {
        "id": "eoFqn3f2xWL9"
      }
    },
    {
      "cell_type": "code",
      "source": [
        "import requests\n",
        "import json\n",
        "# Function to get live stock data for a symbol\n",
        "def get_news():\n",
        "    api_url = \"https://newsdata.io/api/1/latest?apikey=pub_541834e076195e37b19a864efef9573eefdec&language=en&country=in\"\n",
        "    response = requests.get(api_url)\n",
        "\n",
        "    if response.status_code == 200:\n",
        "        data = response.json()\n",
        "        return data\n",
        "    else:\n",
        "        return response.status_code\n",
        "\n",
        "news = get_news()\n"
      ],
      "metadata": {
        "id": "rlRIfiTCfUAB"
      },
      "execution_count": 3,
      "outputs": []
    },
    {
      "cell_type": "code",
      "source": [
        "news"
      ],
      "metadata": {
        "colab": {
          "base_uri": "https://localhost:8080/"
        },
        "id": "W52GJ9w388aB",
        "outputId": "4c6e757f-61a5-4826-bd2b-948fe678b164"
      },
      "execution_count": 4,
      "outputs": [
        {
          "output_type": "execute_result",
          "data": {
            "text/plain": [
              "{'status': 'success',\n",
              " 'totalResults': 26898,\n",
              " 'results': [{'article_id': 'a59e7b1da61e88616ff3fec49a0ae5d6',\n",
              "   'title': \"Delhi doctors demand 'justice for Abhaya', safety measures for healthcare workers\",\n",
              "   'link': 'https://www.deccanherald.com/india/delhi/delhi-doctors-demand-justice-for-abhaya-safety-measures-for-healthcare-workers-3237339',\n",
              "   'keywords': None,\n",
              "   'creator': ['PTI'],\n",
              "   'video_url': None,\n",
              "   'description': None,\n",
              "   'content': 'ONLY AVAILABLE IN PAID PLANS',\n",
              "   'pubDate': '2024-10-17 19:37:59',\n",
              "   'pubDateTZ': 'UTC',\n",
              "   'image_url': 'https://images.deccanherald.com/deccanherald%2F2024-10-17%2F1z3j2p0j%2FPTI03_05_2024_000124B.jpg?ar=40%3A21&auto=format%2Ccompress&mode=crop&ogImage=true&rect=0%2C0%2C4213%2C2212&w=1200',\n",
              "   'source_id': 'deccanherald',\n",
              "   'source_priority': 10080,\n",
              "   'source_name': 'Deccan Herald',\n",
              "   'source_url': 'https://www.deccanherald.com',\n",
              "   'source_icon': None,\n",
              "   'language': 'english',\n",
              "   'country': ['india'],\n",
              "   'category': ['top'],\n",
              "   'ai_tag': 'ONLY AVAILABLE IN PROFESSIONAL AND CORPORATE PLANS',\n",
              "   'sentiment': 'ONLY AVAILABLE IN PROFESSIONAL AND CORPORATE PLANS',\n",
              "   'sentiment_stats': 'ONLY AVAILABLE IN PROFESSIONAL AND CORPORATE PLANS',\n",
              "   'ai_region': 'ONLY AVAILABLE IN CORPORATE PLANS',\n",
              "   'ai_org': 'ONLY AVAILABLE IN CORPORATE PLANS',\n",
              "   'duplicate': False},\n",
              "  {'article_id': '3b8db4062c6de36c3469d10722dacdd7',\n",
              "   'title': 'IND Vs NZ 1st Test: Numbers That Stand Out From India’s Shocking Day Out In Bengaluru',\n",
              "   'link': 'https://www.outlookindia.com/sports/cricket/ind-vs-nz-1st-test-numbers-that-stand-out-from-indias-shocking-day-out-in-bengaluru-against-test-lowest-total-record-number-of-ducks',\n",
              "   'keywords': [' cricket news',\n",
              "    ' india test match',\n",
              "    ' india vs new zealand test',\n",
              "    \" india's record duck\",\n",
              "    ' india vs new zealand benglauru test match',\n",
              "    ' india most ducks in test cricket',\n",
              "    ' india  lowest score',\n",
              "    ' india vs new zealand',\n",
              "    ' india lowest total in test match',\n",
              "    ' india national cricket team',\n",
              "    ' india performance in bengaluru',\n",
              "    ' india test match record',\n",
              "    'ind vs nz 1st test'],\n",
              "   'creator': None,\n",
              "   'video_url': None,\n",
              "   'description': None,\n",
              "   'content': 'ONLY AVAILABLE IN PAID PLANS',\n",
              "   'pubDate': '2024-10-17 19:37:41',\n",
              "   'pubDateTZ': 'UTC',\n",
              "   'image_url': 'https://media.assettype.com/outlookindia/2024-10-17/p7et4ovd/india-vs-new-zealand-test-bengaluru-ap-photo?ar=40%3A21&auto=format%2Ccompress&enlarge=true&mode=crop&ogImage=true&overlay=false&overlay_position=bottom&overlay_width=100&w=1200',\n",
              "   'source_id': 'outlookindia',\n",
              "   'source_priority': 1033,\n",
              "   'source_name': 'Outlook',\n",
              "   'source_url': 'https://www.outlookindia.com',\n",
              "   'source_icon': 'https://i.bytvi.com/domain_icons/outlookindia.jpg',\n",
              "   'language': 'english',\n",
              "   'country': ['india'],\n",
              "   'category': ['top'],\n",
              "   'ai_tag': 'ONLY AVAILABLE IN PROFESSIONAL AND CORPORATE PLANS',\n",
              "   'sentiment': 'ONLY AVAILABLE IN PROFESSIONAL AND CORPORATE PLANS',\n",
              "   'sentiment_stats': 'ONLY AVAILABLE IN PROFESSIONAL AND CORPORATE PLANS',\n",
              "   'ai_region': 'ONLY AVAILABLE IN CORPORATE PLANS',\n",
              "   'ai_org': 'ONLY AVAILABLE IN CORPORATE PLANS',\n",
              "   'duplicate': False},\n",
              "  {'article_id': 'd7ed114536d5b802e46fc4c378c4e40e',\n",
              "   'title': 'Renewed push for assisted dying in the U.K. faces united Christian opposition',\n",
              "   'link': 'https://www.washingtontimes.com/news/2024/oct/17/renewed-push-for-assisted-dying-in-uk-faces-united/',\n",
              "   'keywords': None,\n",
              "   'creator': ['Emma Ayers'],\n",
              "   'video_url': None,\n",
              "   'description': 'Christians in the United Kingdom have watched in horror as rates of medically assisted suicide have soared globally in the past few years.',\n",
              "   'content': 'ONLY AVAILABLE IN PAID PLANS',\n",
              "   'pubDate': '2024-10-17 19:37:24',\n",
              "   'pubDateTZ': 'UTC',\n",
              "   'image_url': 'https://twt-thumbs.washtimes.com/media/image/2024/10/17/KillTheBill_AS_Demo_161024-07_s1440x960.jpg',\n",
              "   'source_id': 'washingtontimes',\n",
              "   'source_priority': 9784,\n",
              "   'source_name': 'The Washington Times , America’s Newspaper',\n",
              "   'source_url': 'https://www.washingtontimes.com',\n",
              "   'source_icon': 'https://i.bytvi.com/domain_icons/washingtontimes.png',\n",
              "   'language': 'english',\n",
              "   'country': ['india'],\n",
              "   'category': ['other'],\n",
              "   'ai_tag': 'ONLY AVAILABLE IN PROFESSIONAL AND CORPORATE PLANS',\n",
              "   'sentiment': 'ONLY AVAILABLE IN PROFESSIONAL AND CORPORATE PLANS',\n",
              "   'sentiment_stats': 'ONLY AVAILABLE IN PROFESSIONAL AND CORPORATE PLANS',\n",
              "   'ai_region': 'ONLY AVAILABLE IN CORPORATE PLANS',\n",
              "   'ai_org': 'ONLY AVAILABLE IN CORPORATE PLANS',\n",
              "   'duplicate': False},\n",
              "  {'article_id': '645161854e38883c923ba7f2a3d5055d',\n",
              "   'title': 'Centre Sanctions ₹3,589 Crore For Bhopal-Kanpur Economic Corridor',\n",
              "   'link': 'https://www.freepressjournal.in/bhopal/centre-sanctions-3589-crore-for-bhopal-kanpur-economic-corridor',\n",
              "   'keywords': ['bhopal news', 'topnews'],\n",
              "   'creator': None,\n",
              "   'video_url': None,\n",
              "   'description': None,\n",
              "   'content': 'ONLY AVAILABLE IN PAID PLANS',\n",
              "   'pubDate': '2024-10-17 19:36:59',\n",
              "   'pubDateTZ': 'UTC',\n",
              "   'image_url': 'https://media.assettype.com/freepressjournal/2021-07/e966d58c-6c30-4333-b5d2-59ded7ad19e7/Mumbai_Goa_highway.jpg',\n",
              "   'source_id': 'freepressjournal',\n",
              "   'source_priority': 83130,\n",
              "   'source_name': 'The Free Press Journal',\n",
              "   'source_url': 'https://www.freepressjournal.in',\n",
              "   'source_icon': 'https://i.bytvi.com/domain_icons/freepressjournal.png',\n",
              "   'language': 'english',\n",
              "   'country': ['india'],\n",
              "   'category': ['top'],\n",
              "   'ai_tag': 'ONLY AVAILABLE IN PROFESSIONAL AND CORPORATE PLANS',\n",
              "   'sentiment': 'ONLY AVAILABLE IN PROFESSIONAL AND CORPORATE PLANS',\n",
              "   'sentiment_stats': 'ONLY AVAILABLE IN PROFESSIONAL AND CORPORATE PLANS',\n",
              "   'ai_region': 'ONLY AVAILABLE IN CORPORATE PLANS',\n",
              "   'ai_org': 'ONLY AVAILABLE IN CORPORATE PLANS',\n",
              "   'duplicate': False},\n",
              "  {'article_id': 'e3c11b9f6ff90e51279afccece6f34f9',\n",
              "   'title': 'SRS congratulates new J&K govt',\n",
              "   'link': 'https://www.greaterkashmir.com/jammu/srs-congratulates-new-jk-govt/',\n",
              "   'keywords': [\"today's paper\", 'jammu', 'page 4'],\n",
              "   'creator': ['', 'GK NEWS SERVICE'],\n",
              "   'video_url': None,\n",
              "   'description': 'In his congratulatory message, Mahajan expressed optimism about the future governance of the region, while also raising crucial issues that have been of significant concern to the people of Jammu and KashmirThe post SRS congratulates new J&K govt appeared first on Greater Kashmir.',\n",
              "   'content': 'ONLY AVAILABLE IN PAID PLANS',\n",
              "   'pubDate': '2024-10-17 19:36:55',\n",
              "   'pubDateTZ': 'UTC',\n",
              "   'image_url': 'https://greaterkashmir.imagibyte.sortdcdn.net/wp-content/uploads/2024/10/Rajiv.jpg?quality=80&type=webp',\n",
              "   'source_id': 'greaterkashmir',\n",
              "   'source_priority': 101259,\n",
              "   'source_name': 'Greater Kashmir',\n",
              "   'source_url': 'https://www.greaterkashmir.com',\n",
              "   'source_icon': 'https://i.bytvi.com/domain_icons/greaterkashmir.jpg',\n",
              "   'language': 'english',\n",
              "   'country': ['india'],\n",
              "   'category': ['top'],\n",
              "   'ai_tag': 'ONLY AVAILABLE IN PROFESSIONAL AND CORPORATE PLANS',\n",
              "   'sentiment': 'ONLY AVAILABLE IN PROFESSIONAL AND CORPORATE PLANS',\n",
              "   'sentiment_stats': 'ONLY AVAILABLE IN PROFESSIONAL AND CORPORATE PLANS',\n",
              "   'ai_region': 'ONLY AVAILABLE IN CORPORATE PLANS',\n",
              "   'ai_org': 'ONLY AVAILABLE IN CORPORATE PLANS',\n",
              "   'duplicate': False},\n",
              "  {'article_id': '7ae6171350b7f8c42407a92150d8e5b2',\n",
              "   'title': 'Man creates fake website using steel company’s name to cheat buyers, held',\n",
              "   'link': 'https://timesofindia.indiatimes.com/city/noida/kolkata-man-arrested-for-running-fake-steel-company-website-to-scam-buyers-of-149-lakh/articleshow/114327389.cms',\n",
              "   'keywords': None,\n",
              "   'creator': ['Avishek Kumar'],\n",
              "   'video_url': None,\n",
              "   'description': None,\n",
              "   'content': 'ONLY AVAILABLE IN PAID PLANS',\n",
              "   'pubDate': '2024-10-17 19:36:41',\n",
              "   'pubDateTZ': 'UTC',\n",
              "   'image_url': 'https://static.toiimg.com/thumb/msid-47529300,imgsize-110164,width-400,height-225,resizemode-72/47529300.jpg',\n",
              "   'source_id': 'toi',\n",
              "   'source_priority': 391,\n",
              "   'source_name': 'The Times Of India',\n",
              "   'source_url': 'https://timesofindia.indiatimes.com',\n",
              "   'source_icon': 'https://i.bytvi.com/domain_icons/toi.png',\n",
              "   'language': 'english',\n",
              "   'country': ['india'],\n",
              "   'category': ['top'],\n",
              "   'ai_tag': 'ONLY AVAILABLE IN PROFESSIONAL AND CORPORATE PLANS',\n",
              "   'sentiment': 'ONLY AVAILABLE IN PROFESSIONAL AND CORPORATE PLANS',\n",
              "   'sentiment_stats': 'ONLY AVAILABLE IN PROFESSIONAL AND CORPORATE PLANS',\n",
              "   'ai_region': 'ONLY AVAILABLE IN CORPORATE PLANS',\n",
              "   'ai_org': 'ONLY AVAILABLE IN CORPORATE PLANS',\n",
              "   'duplicate': False},\n",
              "  {'article_id': '51f5eed47dbee82f1939ccda57267fd9',\n",
              "   'title': 'Casper Ruud Slammed For ‘Hypocrisy’ After Comments on Future Masters 1000 in Saudi Arabia',\n",
              "   'link': 'https://thesportsrush.com/tennis-news-casper-ruud-slammed-for-hypocrisy-after-comments-on-future-masters-1000-in-saudi-arabia/',\n",
              "   'keywords': ['casper ruud', 'tennis'],\n",
              "   'creator': ['Advait Jajodia'],\n",
              "   'video_url': None,\n",
              "   'description': 'Casper Ruud is generally quite diplomatic with his statements, often avoiding anything problematic. It seems as though he dropped his guard this one time. Ruud chose not to be politically correct and candidly spoke about the idea of a potential Masters 1000 being held in Saudi Arabia. The Norwegian tennis star is currently participating in...The post Casper Ruud Slammed For ‘Hypocrisy’ After Comments on Future Masters 1000 in Saudi Arabia appeared first on The SportsRush.',\n",
              "   'content': 'ONLY AVAILABLE IN PAID PLANS',\n",
              "   'pubDate': '2024-10-17 19:36:14',\n",
              "   'pubDateTZ': 'UTC',\n",
              "   'image_url': 'https://cdn-wp.thesportsrush.com/2024/04/a0ee02cf-untitled-design-2024-04-09t111327.042.jpg?format=auto&q=75&w=3840',\n",
              "   'source_id': 'thesportsrush',\n",
              "   'source_priority': 4166,\n",
              "   'source_name': 'The Sportsrush',\n",
              "   'source_url': 'https://thesportsrush.com',\n",
              "   'source_icon': 'https://i.bytvi.com/domain_icons/thesportsrush.jpg',\n",
              "   'language': 'english',\n",
              "   'country': ['india',\n",
              "    'australia',\n",
              "    'united states of america',\n",
              "    'united kingdom'],\n",
              "   'category': ['sports'],\n",
              "   'ai_tag': 'ONLY AVAILABLE IN PROFESSIONAL AND CORPORATE PLANS',\n",
              "   'sentiment': 'ONLY AVAILABLE IN PROFESSIONAL AND CORPORATE PLANS',\n",
              "   'sentiment_stats': 'ONLY AVAILABLE IN PROFESSIONAL AND CORPORATE PLANS',\n",
              "   'ai_region': 'ONLY AVAILABLE IN CORPORATE PLANS',\n",
              "   'ai_org': 'ONLY AVAILABLE IN CORPORATE PLANS',\n",
              "   'duplicate': False},\n",
              "  {'article_id': '9fedb3694b581bcc15c0d3cf6d9f64b5',\n",
              "   'title': 'MLA Gulmarg Farooq Shah holds meeting at Tangmarg',\n",
              "   'link': 'https://www.greaterkashmir.com/kashmir/mla-gulmarg-farooq-shah-holds-meeting-at-tangmarg/',\n",
              "   'keywords': ['page 4', \"today's paper\", 'kashmir'],\n",
              "   'creator': ['', 'GK NEWS SERVICE'],\n",
              "   'video_url': None,\n",
              "   'description': 'As per the official handout issued here, the meeting was held to discuss improvements in public service deliveryThe post MLA Gulmarg Farooq Shah holds meeting at Tangmarg appeared first on Greater Kashmir.',\n",
              "   'content': 'ONLY AVAILABLE IN PAID PLANS',\n",
              "   'pubDate': '2024-10-17 19:36:07',\n",
              "   'pubDateTZ': 'UTC',\n",
              "   'image_url': 'https://greaterkashmir.imagibyte.sortdcdn.net/wp-content/uploads/2024/09/Screenshot-2024-09-12-at-7.21.15-AM.png?quality=80&type=webp',\n",
              "   'source_id': 'greaterkashmir',\n",
              "   'source_priority': 101259,\n",
              "   'source_name': 'Greater Kashmir',\n",
              "   'source_url': 'https://www.greaterkashmir.com',\n",
              "   'source_icon': 'https://i.bytvi.com/domain_icons/greaterkashmir.jpg',\n",
              "   'language': 'english',\n",
              "   'country': ['india'],\n",
              "   'category': ['top'],\n",
              "   'ai_tag': 'ONLY AVAILABLE IN PROFESSIONAL AND CORPORATE PLANS',\n",
              "   'sentiment': 'ONLY AVAILABLE IN PROFESSIONAL AND CORPORATE PLANS',\n",
              "   'sentiment_stats': 'ONLY AVAILABLE IN PROFESSIONAL AND CORPORATE PLANS',\n",
              "   'ai_region': 'ONLY AVAILABLE IN CORPORATE PLANS',\n",
              "   'ai_org': 'ONLY AVAILABLE IN CORPORATE PLANS',\n",
              "   'duplicate': False},\n",
              "  {'article_id': '5ee71746a0f40556c46b65edd3a2d8c5',\n",
              "   'title': 'WWE Champion Cody Rhodes names his top five wrestlers as of today; The Rock and Roman Reigns share shocking rank',\n",
              "   'link': 'https://timesofindia.indiatimes.com/sports/wwe/top-stories/cody-rhodes-reveals-shocking-favorite-wrestlers-list-the-rock-and-roman-reigns-tie-for-fifth/articleshow/114327274.cms',\n",
              "   'keywords': None,\n",
              "   'creator': None,\n",
              "   'video_url': None,\n",
              "   'description': 'Cody Rhodes revealed his top five favorite wrestlers during a BBC appearance, highlighting John Cena, Hulk Hogan, Dusty Rhodes, Sting, and a split fifth spot between The Rock and Roman Reigns. Despite their fierce rivalries, Rhodes shows respect for both Reigns and The Rock. Fans eagerly anticipate potential matches with these icons.',\n",
              "   'content': 'ONLY AVAILABLE IN PAID PLANS',\n",
              "   'pubDate': '2024-10-17 19:35:51',\n",
              "   'pubDateTZ': 'UTC',\n",
              "   'image_url': 'https://static.toiimg.com/thumb/msid-114327296,imgsize-79810,width-400,resizemode-4/114327296.jpg',\n",
              "   'source_id': 'toi',\n",
              "   'source_priority': 391,\n",
              "   'source_name': 'The Times Of India',\n",
              "   'source_url': 'https://timesofindia.indiatimes.com',\n",
              "   'source_icon': 'https://i.bytvi.com/domain_icons/toi.png',\n",
              "   'language': 'english',\n",
              "   'country': ['india'],\n",
              "   'category': ['top'],\n",
              "   'ai_tag': 'ONLY AVAILABLE IN PROFESSIONAL AND CORPORATE PLANS',\n",
              "   'sentiment': 'ONLY AVAILABLE IN PROFESSIONAL AND CORPORATE PLANS',\n",
              "   'sentiment_stats': 'ONLY AVAILABLE IN PROFESSIONAL AND CORPORATE PLANS',\n",
              "   'ai_region': 'ONLY AVAILABLE IN CORPORATE PLANS',\n",
              "   'ai_org': 'ONLY AVAILABLE IN CORPORATE PLANS',\n",
              "   'duplicate': False},\n",
              "  {'article_id': 'f158eabbc9c05c4ab7ef25399099f3d9',\n",
              "   'title': \"Yahya Sinwar killed: Biden says Hamas leader's death is 'good day' for Israel, US & the world; read statement\",\n",
              "   'link': 'https://newsable.asianetnews.com/world/yahya-sinwar-killed-biden-says-hamas-leader-s-death-is-good-day-for-israel-us-the-world-read-statement-snt-slimfg',\n",
              "   'keywords': None,\n",
              "   'creator': None,\n",
              "   'video_url': None,\n",
              "   'description': 'US President Joe Biden announced on Thursday that the killing of Hamas leader Yahya Sinwar by Israeli forces marked a \"good day for Israel, the United States, and the world.\" He described it as an \"opportunity\" to secure the release of Israeli hostages held by Hamas and to bring an end to the ongoing war in Gaza, which has persisted for over a year. Also read: Israel kills Yahya Sinwar: UNRWA employee ID, fake passport, Mentos & more found on Hamas leader\\'s body | PICS Biden\\'s comments came moments after Israel confirmed that its forces in Gaza killed Sinwar. Israeli leaders hailed the killing of Sinwar as a long-awaited retribution, occurring just over a year after Hamas-led militants launched a shocking attack from Gaza into southern Israel. They framed this event as an opportunity for Hamas to surrender and to release the approximately 100 hostages it continues to hold captive. Hamas leader Yahya Sinwar is dead. This is a good day for Israel, for the United States, and for the world. Here’s my full statement. pic.twitter.com/cSe1czhd9s — President Biden (@POTUS) October 17, 2024 In his statement, Biden drew parallels between Sinwar\\'s death and the US operation that killed al-Qaeda leader Osama bin Laden, responsible for the September 11, 2001, attacks. He emphasized that the killing of the mastermind behind the October 7, 2023, attack on Israel \"proves once again that no terrorists anywhere in the world can escape justice, no matter how long it takes.” Biden further stated that with Sinwar’s death “there is now the opportunity for a ‘day after’ in Gaza without Hamas in power, and for a political settlement that provides a better future for Israelis and Palestinians alike.” Biden commended US special operations forces and intelligence teams for their role in advising Israeli allies on tracking and locating Hamas leaders, including Yahya Sinwar, over the past year. While the U.S. confirmed that the operation resulting in Sinwar’s death was carried out by Israeli forces, their efforts were supported by US intelligence collaboration. National Security Adviser Jake Sullivan described Sinwar as a “significant barrier” to peace. He noted that “his removal from the battlefield creates an opportunity to move forward, bringing the hostages back home.” Sinwar had served as Hamas\\' top leader in the Gaza Strip for several years, closely tied to its military wing and significantly enhancing its capabilities. He rose to the highest position in Hamas in July after the death of his predecessor, Ismail Haniyeh, who was reportedly killed in an Israeli strike in Tehran. In recent months, Israel has carried out airstrikes that have targeted and eliminated several senior figures from Hamas and Lebanon’s Hezbollah. While Israel claims to have killed Mohammed Deif, the head of Hamas’ military wing, in one of these strikes, the group maintains that he survived. Also read: Hamas leader Yahya Sinwar ELIMINATED: Celebrations erupt across Israel, IDF soldiers dance with joy (WATCH) The US Secretary of State Antony Blinken choed his spokesperson Matthew Miller’s comments by saying that Washington will redouble efforts in the days ahead to end the conflict in Gaza after the death of Hamas leader Yahya Sinwar. In a statement, Blinken described Sinwar as a “vicious and unrepentant terrorist responsible for the largest massacre of Jews since the Holocaust.” “The world is a better place with him gone,” the US secretary added. \"We remember today the victims of Sinwar’s unspeakable crimes and hope that his death brings them some measure of justice. The United States stands with Israel in holding accountable those responsible for October 7 and ensuring such an attack can never be repeated,\" Blinken said. \"Justice has been served. ... [Sinwar] had American blood on his hands. Today, I can only hope that the families of the victims of Hamas feel a sense and measure of relief.\" — VP Kamala Harris after Israel confirms the death of Hamas leader Yahya Sinwar pic.twitter.com/DRd6JzLM6A — The Recount (@therecount) October 17, 2024 The US vice-president and Democratic presidential nominee, Kamala Harris, stated she hoped that Israel’s announcement that it had killed Hamas leader Yahya Sinwar will bring “a sense and measure of relief” to the families of the victims of the October 7 Hamas attacks on Israel. “Justice has been served,” Harris told reporters in Milwaukee, Wisconsin on Thursday. \"This moment gives us an opportunity to finally end the war in Gaza.\"',\n",
              "   'content': 'ONLY AVAILABLE IN PAID PLANS',\n",
              "   'pubDate': '2024-10-17 19:35:41',\n",
              "   'pubDateTZ': 'UTC',\n",
              "   'image_url': 'https://static-gi.asianetnews.com/images/01hdwjxn1fe5fjhzrxz713fbhd/Yahya-Sinwar-1698545194031.jpg',\n",
              "   'source_id': 'newsable_asianetnews',\n",
              "   'source_priority': 7749,\n",
              "   'source_name': 'Asianet Newsable',\n",
              "   'source_url': 'https://newsable.asianetnews.com',\n",
              "   'source_icon': 'https://i.bytvi.com/domain_icons/newsable_asianetnews.jpg',\n",
              "   'language': 'english',\n",
              "   'country': ['india'],\n",
              "   'category': ['top'],\n",
              "   'ai_tag': 'ONLY AVAILABLE IN PROFESSIONAL AND CORPORATE PLANS',\n",
              "   'sentiment': 'ONLY AVAILABLE IN PROFESSIONAL AND CORPORATE PLANS',\n",
              "   'sentiment_stats': 'ONLY AVAILABLE IN PROFESSIONAL AND CORPORATE PLANS',\n",
              "   'ai_region': 'ONLY AVAILABLE IN CORPORATE PLANS',\n",
              "   'ai_org': 'ONLY AVAILABLE IN CORPORATE PLANS',\n",
              "   'duplicate': False}],\n",
              " 'nextPage': '1729193741481560077'}"
            ]
          },
          "metadata": {},
          "execution_count": 4
        }
      ]
    },
    {
      "cell_type": "code",
      "source": [
        "import json\n",
        "import csv\n",
        "\n",
        "data_file = open('sample_data/news_data.csv', 'w', newline='')\n",
        "csv_writer = csv.writer(data_file)\n",
        "\n",
        "count = 0\n",
        "for data in news['results']:\n",
        "    if count == 0:\n",
        "        header = data.keys()\n",
        "        csv_writer.writerow(header)\n",
        "        count += 1\n",
        "    csv_writer.writerow(data.values())\n",
        "\n",
        "data_file.close()"
      ],
      "metadata": {
        "id": "JWh6J2ry8QJH"
      },
      "execution_count": 5,
      "outputs": []
    },
    {
      "cell_type": "markdown",
      "source": [
        "# **Using Newspaper3k to extract text from articles**"
      ],
      "metadata": {
        "id": "7HfjcGNwxhEW"
      }
    },
    {
      "cell_type": "code",
      "source": [
        "from newspaper import Article\n",
        "import requests\n",
        "\n",
        "def newspaper_text_extraction(article_url):\n",
        "    # Set headers to simulate a browser request\n",
        "    headers = {'User-Agent': 'Mozilla/5.0 (Windows NT 10.0; Win64; x64; rv:91.0) Gecko/20100101 Firefox/91.0'}\n",
        "\n",
        "    # Check if the request is successful\n",
        "    response = requests.get(article_url, headers=headers)\n",
        "\n",
        "    if response.status_code == 200:  # If the response is successful, proceed with parsing\n",
        "        article = Article(article_url)\n",
        "        article.download()\n",
        "        article.parse()\n",
        "        return article.title, article.text\n",
        "    else:\n",
        "        print(f\"Failed to retrieve {article_url} (status code: {response.status_code})\")\n",
        "        return None, None\n",
        "\n",
        "news_contents = []\n",
        "\n",
        "for i in range(0, 10):\n",
        "    title, content = newspaper_text_extraction(news[\"results\"][i][\"link\"])\n",
        "    if content and len(content) > 100:\n",
        "        print(news[\"results\"][i][\"link\"])\n",
        "        print(news[\"results\"][i][\"category\"])\n",
        "        news_contents.append({'title': title, 'content': content})\n"
      ],
      "metadata": {
        "colab": {
          "base_uri": "https://localhost:8080/"
        },
        "id": "S6-HCUicufe3",
        "outputId": "ccb5b460-d9f6-47f1-b37d-cbf8d9cb41aa"
      },
      "execution_count": 7,
      "outputs": [
        {
          "output_type": "stream",
          "name": "stdout",
          "text": [
            "https://www.deccanherald.com/india/delhi/delhi-doctors-demand-justice-for-abhaya-safety-measures-for-healthcare-workers-3237339\n",
            "['top']\n",
            "https://www.outlookindia.com/sports/cricket/ind-vs-nz-1st-test-numbers-that-stand-out-from-indias-shocking-day-out-in-bengaluru-against-test-lowest-total-record-number-of-ducks\n",
            "['top']\n",
            "Failed to retrieve https://www.washingtontimes.com/news/2024/oct/17/renewed-push-for-assisted-dying-in-uk-faces-united/ (status code: 403)\n",
            "https://www.freepressjournal.in/bhopal/centre-sanctions-3589-crore-for-bhopal-kanpur-economic-corridor\n",
            "['top']\n",
            "https://www.greaterkashmir.com/jammu/srs-congratulates-new-jk-govt/\n",
            "['top']\n",
            "https://timesofindia.indiatimes.com/city/noida/kolkata-man-arrested-for-running-fake-steel-company-website-to-scam-buyers-of-149-lakh/articleshow/114327389.cms\n",
            "['top']\n",
            "https://thesportsrush.com/tennis-news-casper-ruud-slammed-for-hypocrisy-after-comments-on-future-masters-1000-in-saudi-arabia/\n",
            "['sports']\n",
            "https://www.greaterkashmir.com/kashmir/mla-gulmarg-farooq-shah-holds-meeting-at-tangmarg/\n",
            "['top']\n",
            "https://timesofindia.indiatimes.com/sports/wwe/top-stories/cody-rhodes-reveals-shocking-favorite-wrestlers-list-the-rock-and-roman-reigns-tie-for-fifth/articleshow/114327274.cms\n",
            "['top']\n",
            "https://newsable.asianetnews.com/world/yahya-sinwar-killed-biden-says-hamas-leader-s-death-is-good-day-for-israel-us-the-world-read-statement-snt-slimfg\n",
            "['top']\n"
          ]
        }
      ]
    },
    {
      "cell_type": "code",
      "execution_count": 8,
      "metadata": {
        "id": "s_sPpEhj3QmL",
        "colab": {
          "base_uri": "https://localhost:8080/"
        },
        "outputId": "0c7e28e6-7c99-4629-e433-0746963b158f"
      },
      "outputs": [
        {
          "output_type": "stream",
          "name": "stdout",
          "text": [
            "Requirement already satisfied: transformers in /usr/local/lib/python3.10/dist-packages (4.44.2)\n",
            "Requirement already satisfied: filelock in /usr/local/lib/python3.10/dist-packages (from transformers) (3.16.1)\n",
            "Requirement already satisfied: huggingface-hub<1.0,>=0.23.2 in /usr/local/lib/python3.10/dist-packages (from transformers) (0.24.7)\n",
            "Requirement already satisfied: numpy>=1.17 in /usr/local/lib/python3.10/dist-packages (from transformers) (1.26.4)\n",
            "Requirement already satisfied: packaging>=20.0 in /usr/local/lib/python3.10/dist-packages (from transformers) (24.1)\n",
            "Requirement already satisfied: pyyaml>=5.1 in /usr/local/lib/python3.10/dist-packages (from transformers) (6.0.2)\n",
            "Requirement already satisfied: regex!=2019.12.17 in /usr/local/lib/python3.10/dist-packages (from transformers) (2024.9.11)\n",
            "Requirement already satisfied: requests in /usr/local/lib/python3.10/dist-packages (from transformers) (2.32.3)\n",
            "Requirement already satisfied: safetensors>=0.4.1 in /usr/local/lib/python3.10/dist-packages (from transformers) (0.4.5)\n",
            "Requirement already satisfied: tokenizers<0.20,>=0.19 in /usr/local/lib/python3.10/dist-packages (from transformers) (0.19.1)\n",
            "Requirement already satisfied: tqdm>=4.27 in /usr/local/lib/python3.10/dist-packages (from transformers) (4.66.5)\n",
            "Requirement already satisfied: fsspec>=2023.5.0 in /usr/local/lib/python3.10/dist-packages (from huggingface-hub<1.0,>=0.23.2->transformers) (2024.6.1)\n",
            "Requirement already satisfied: typing-extensions>=3.7.4.3 in /usr/local/lib/python3.10/dist-packages (from huggingface-hub<1.0,>=0.23.2->transformers) (4.12.2)\n",
            "Requirement already satisfied: charset-normalizer<4,>=2 in /usr/local/lib/python3.10/dist-packages (from requests->transformers) (3.4.0)\n",
            "Requirement already satisfied: idna<4,>=2.5 in /usr/local/lib/python3.10/dist-packages (from requests->transformers) (3.10)\n",
            "Requirement already satisfied: urllib3<3,>=1.21.1 in /usr/local/lib/python3.10/dist-packages (from requests->transformers) (2.2.3)\n",
            "Requirement already satisfied: certifi>=2017.4.17 in /usr/local/lib/python3.10/dist-packages (from requests->transformers) (2024.8.30)\n",
            "Requirement already satisfied: torch in /usr/local/lib/python3.10/dist-packages (2.4.1+cu121)\n",
            "Requirement already satisfied: filelock in /usr/local/lib/python3.10/dist-packages (from torch) (3.16.1)\n",
            "Requirement already satisfied: typing-extensions>=4.8.0 in /usr/local/lib/python3.10/dist-packages (from torch) (4.12.2)\n",
            "Requirement already satisfied: sympy in /usr/local/lib/python3.10/dist-packages (from torch) (1.13.3)\n",
            "Requirement already satisfied: networkx in /usr/local/lib/python3.10/dist-packages (from torch) (3.4)\n",
            "Requirement already satisfied: jinja2 in /usr/local/lib/python3.10/dist-packages (from torch) (3.1.4)\n",
            "Requirement already satisfied: fsspec in /usr/local/lib/python3.10/dist-packages (from torch) (2024.6.1)\n",
            "Requirement already satisfied: MarkupSafe>=2.0 in /usr/local/lib/python3.10/dist-packages (from jinja2->torch) (3.0.1)\n",
            "Requirement already satisfied: mpmath<1.4,>=1.1.0 in /usr/local/lib/python3.10/dist-packages (from sympy->torch) (1.3.0)\n"
          ]
        }
      ],
      "source": [
        "!pip install transformers\n",
        "!pip install torch\n",
        "\n",
        "from transformers import pipeline"
      ]
    },
    {
      "cell_type": "code",
      "execution_count": 9,
      "metadata": {
        "id": "fO6Dap3XjsCL",
        "colab": {
          "base_uri": "https://localhost:8080/"
        },
        "outputId": "336b4810-3c15-4ee6-b960-0d3fbebbb8f9",
        "collapsed": true
      },
      "outputs": [
        {
          "output_type": "stream",
          "name": "stdout",
          "text": [
            "Collecting pdfkit\n",
            "  Downloading pdfkit-1.0.0-py3-none-any.whl.metadata (9.3 kB)\n",
            "Downloading pdfkit-1.0.0-py3-none-any.whl (12 kB)\n",
            "Installing collected packages: pdfkit\n",
            "Successfully installed pdfkit-1.0.0\n",
            "Reading package lists... Done\n",
            "Building dependency tree... Done\n",
            "Reading state information... Done\n",
            "wkhtmltopdf is already the newest version (0.12.6-2).\n",
            "0 upgraded, 0 newly installed, 0 to remove and 48 not upgraded.\n"
          ]
        }
      ],
      "source": [
        "!pip install pdfkit\n",
        "!apt-get install -y wkhtmltopdf"
      ]
    },
    {
      "cell_type": "markdown",
      "source": [
        "# **Facebook Bart for summarization**"
      ],
      "metadata": {
        "id": "vX7c2y1Q2l_s"
      }
    },
    {
      "cell_type": "code",
      "source": [
        "summarizer = pipeline(\"summarization\", model=\"facebook/bart-large-cnn\")"
      ],
      "metadata": {
        "id": "U4Uqiddq22U1",
        "colab": {
          "base_uri": "https://localhost:8080/"
        },
        "outputId": "da1e70d9-64f7-451d-a7bc-3a33ce25d2dd"
      },
      "execution_count": 10,
      "outputs": [
        {
          "output_type": "stream",
          "name": "stderr",
          "text": [
            "/usr/local/lib/python3.10/dist-packages/huggingface_hub/utils/_token.py:89: UserWarning: \n",
            "The secret `HF_TOKEN` does not exist in your Colab secrets.\n",
            "To authenticate with the Hugging Face Hub, create a token in your settings tab (https://huggingface.co/settings/tokens), set it as secret in your Google Colab and restart your session.\n",
            "You will be able to reuse this secret in all of your notebooks.\n",
            "Please note that authentication is recommended but still optional to access public models or datasets.\n",
            "  warnings.warn(\n",
            "/usr/local/lib/python3.10/dist-packages/transformers/tokenization_utils_base.py:1601: FutureWarning: `clean_up_tokenization_spaces` was not set. It will be set to `True` by default. This behavior will be depracted in transformers v4.45, and will be then set to `False` by default. For more details check this issue: https://github.com/huggingface/transformers/issues/31884\n",
            "  warnings.warn(\n"
          ]
        }
      ]
    },
    {
      "cell_type": "code",
      "source": [
        "summarized_news = []\n",
        "\n",
        "for n in news_contents:\n",
        "  if isinstance(n[\"content\"], str) and len(n[\"content\"]) > 0:\n",
        "    content = n[\"content\"][:500]\n",
        "    summary = summarizer(content, max_length=100, min_length=50, do_sample=False)\n",
        "    print(\"--------------------------------------------------------------------------\")\n",
        "    print(\"Title : \", end=\"\")\n",
        "    print(n[\"title\"])\n",
        "    print(\"\\n\")\n",
        "    print(summary[0]['summary_text'], end=\"\\n\\n\")\n",
        "    summarized_news.append({\"title\" : n[\"title\"], \"content\" : summary[0]['summary_text'], \"category\" : \"\"})\n",
        "  else:\n",
        "    print(\"Invalid content at index:\", n)"
      ],
      "metadata": {
        "colab": {
          "base_uri": "https://localhost:8080/"
        },
        "id": "DlmUf4BK34h9",
        "outputId": "eba81935-b622-4a20-aea8-7175a4d08fcf",
        "collapsed": true
      },
      "execution_count": 11,
      "outputs": [
        {
          "output_type": "stream",
          "name": "stderr",
          "text": [
            "Your max_length is set to 100, but your input_length is only 50. Since this is a summarization task, where outputs shorter than the input are typically wanted, you might consider decreasing max_length manually, e.g. summarizer('...', max_length=25)\n"
          ]
        },
        {
          "output_type": "stream",
          "name": "stdout",
          "text": [
            "--------------------------------------------------------------------------\n",
            "Title : Delhi doctors demand 'justice for Abhaya', safety measures for healthcare workers\n",
            "\n",
            "\n",
            "Delhi doctors demand 'justice for Abhaya', safety measures for healthcare workers. Doctors held a protest outside the Banga Bhawan, holding posters and banners. They demanded swift justice for the murdered trainee doctor. The protest was called to demand swift justice and safety measures.\n",
            "\n",
            "--------------------------------------------------------------------------\n",
            "Title : IND Vs NZ 1st Test: Numbers That Stand Out From India’s Shocking Day Out In Bengaluru\n",
            "\n",
            "\n",
            "Team India players stand for their national anthem before the start of the day two of the first cricket test match between India and New Zealand at the M.Chinnaswamy Stadium, in Bengaluru, India, Thursday, Oct. 17, 2024.\n",
            "\n",
            "--------------------------------------------------------------------------\n",
            "Title : Centre Sanctions ₹3,589 Crore For Bhopal-Kanpur Economic Corridor\n",
            "\n",
            "\n",
            "The Central Government has sanctioned Rs 3,589 crore to upgrade the Bhopal-Kanpur economic corridor into a four- lane highway. Union Minister of Road Transport and Highways Nitin Gadkari gave this information on Thursday.\n",
            "\n",
            "--------------------------------------------------------------------------\n",
            "Title : SRS congratulates new J&K govt\n",
            "\n",
            "\n",
            "Shri Ram Sena congratulates the newly formed Union Territory government in Jammu and Kashmir. SRS President Rajiv Mahajan emphasised the importance of restoring J&K’s statehood, a long-standing de-facto goal.\n",
            "\n",
            "--------------------------------------------------------------------------\n",
            "Title : Kolkata Man Arrested for Running Fake Steel Company Website to Scam Buyers of 14.9 Lakh\n",
            "\n",
            "\n",
            "A 25-year-old man was arrested from Kolkata by Ghaziabad police 's cybercrime branch. Police said the gang would take advance payment and generate fake invoices in the name of Jindal Steel and Power Limited.\n",
            "\n",
            "--------------------------------------------------------------------------\n",
            "Title : Casper Ruud Slammed For ‘Hypocrisy’ After Comments on Future Masters 1000 in Saudi Arabia\n",
            "\n",
            "\n",
            "Casper Ruud is currently participating in the Stockholm Open 2024. The 25-year-old has taken not-so-subtle jabs at the six players. Ruud chose not to be politically correct and candidly spoke about the idea of a potential Masters 1000 being held in Saudi Arabia.\n",
            "\n",
            "--------------------------------------------------------------------------\n",
            "Title : MLA Gulmarg Farooq Shah holds meeting at Tangmarg\n",
            "\n",
            "\n",
            "The Member of Legislative Assembly (MLA) from Gulmarg constituency Farooq Ahmad Shah, on Thursday held an introductory meeting with sub-district officers at Townhall Tangmarg. The meeting was held to discuss improvements in public service delivery.\n",
            "\n",
            "--------------------------------------------------------------------------\n",
            "Title : Cody Rhodes Reveals Shocking Favorite Wrestlers List: The Rock and Roman Reigns Tie for Fifth!\n",
            "\n",
            "\n",
            "Cody Rhodes says he has five favorite wrestlers: John Cena, Hulk Hogan, Dusty Rhodes, Sting, The Rock and The Rock. Rhodes is looking forward to a showdown with John Cena at WrestleMania XL. Rhodes also has a rivalry with Roman Reigns and the Rock.\n",
            "\n",
            "--------------------------------------------------------------------------\n",
            "Title : Yahya Sinwar killed: Biden says Hamas leader's death is 'good day' for Israel, US & the world; read statement\n",
            "\n",
            "\n",
            "US President Joe Biden announced on Thursday that the killing of Hamas leader Yahya Sinwar by Israeli forces marked a \"good day for Israel, the United States, and the world\" He described it as an \"opportunity\" to secure the release of Israeli hostages held by Hamas.\n",
            "\n"
          ]
        }
      ]
    },
    {
      "cell_type": "markdown",
      "source": [
        "# **Classifying the Summarized News**"
      ],
      "metadata": {
        "id": "qe9XqF28QxqH"
      }
    },
    {
      "cell_type": "code",
      "source": [
        "import pandas as pd\n",
        "import re\n",
        "from nltk.tokenize import word_tokenize\n",
        "from nltk.corpus import stopwords\n",
        "import nltk\n",
        "\n",
        "nltk.download('punkt')\n",
        "nltk.download('stopwords')\n",
        "\n",
        "# Define the function to clean the news title column\n",
        "def cleaned_desc_column(text):\n",
        "  # Remove commas\n",
        "  text = re.sub(r',', '', text)\n",
        "  # Remove extra spaces\n",
        "  text = re.sub(r'\\s+', ' ', text)\n",
        "  # Remove full stops\n",
        "  text = re.sub(r'\\.', '', text)\n",
        "  # Remove single quotes and double quotes\n",
        "  text = re.sub(r\"['\\\"]\", '', text)\n",
        "  # Remove other non-word characters\n",
        "  text = re.sub(r'\\W', ' ', text)\n",
        "\n",
        "  text_token = word_tokenize(text)\n",
        "  stop_words = set(stopwords.words('english'))\n",
        "\n",
        "  filtered_text = []\n",
        "\n",
        "  for sw in text_token:\n",
        "    if sw not in stop_words:\n",
        "        filtered_text.append(sw)\n",
        "\n",
        "  text = \" \".join(filtered_text)\n",
        "  return text"
      ],
      "metadata": {
        "colab": {
          "base_uri": "https://localhost:8080/"
        },
        "id": "MbHKM8vfQwEB",
        "outputId": "812171a1-8adf-42a0-eb29-70f71af726f9"
      },
      "execution_count": 12,
      "outputs": [
        {
          "output_type": "stream",
          "name": "stderr",
          "text": [
            "[nltk_data] Downloading package punkt to /root/nltk_data...\n",
            "[nltk_data]   Package punkt is already up-to-date!\n",
            "[nltk_data] Downloading package stopwords to /root/nltk_data...\n",
            "[nltk_data]   Package stopwords is already up-to-date!\n"
          ]
        }
      ]
    },
    {
      "cell_type": "markdown",
      "source": [
        "### ***Loading news dataset for training classifier model***"
      ],
      "metadata": {
        "id": "JEf4oi0zRMAw"
      }
    },
    {
      "cell_type": "code",
      "source": [
        "import json\n",
        "\n",
        "# List to store valid records\n",
        "valid_records = []\n",
        "\n",
        "# Open the JSON file and read line by line\n",
        "with open('sample_data/newsData.json', 'r') as f:\n",
        "    for line in f:\n",
        "        try:\n",
        "            # Try to parse each line as JSON\n",
        "            record = json.loads(line)\n",
        "            valid_records.append(record)\n",
        "        except json.JSONDecodeError as e:\n",
        "            # Skip lines with JSON errors and print a message\n",
        "            print(f\"Skipping malformed line: {line.strip()} - Error: {e}\")\n",
        "\n",
        "# Convert valid records into a DataFrame\n",
        "news_data = pd.DataFrame(valid_records)\n",
        "\n",
        "# Select the required columns if they exist\n",
        "if 'headline' in news_data.columns and 'category' in news_data.columns:\n",
        "    news_data = news_data[['headline', 'category']]\n",
        "\n",
        "# Show the first few valid rows\n",
        "print(news_data.head())"
      ],
      "metadata": {
        "colab": {
          "base_uri": "https://localhost:8080/"
        },
        "id": "RBPMEdPvRLOf",
        "outputId": "741e9f08-4ddf-46c0-b529-fc97cacf1ddd"
      },
      "execution_count": 13,
      "outputs": [
        {
          "output_type": "stream",
          "name": "stdout",
          "text": [
            "                                            headline   category\n",
            "0  Over 4 Million Americans Roll Up Sleeves For O...  U.S. NEWS\n",
            "1  American Airlines Flyer Charged, Banned For Li...  U.S. NEWS\n",
            "2  23 Of The Funniest Tweets About Cats And Dogs ...     COMEDY\n",
            "3  The Funniest Tweets From Parents This Week (Se...  PARENTING\n",
            "4  Woman Who Called Cops On Black Bird-Watcher Lo...  U.S. NEWS\n"
          ]
        }
      ]
    },
    {
      "cell_type": "code",
      "source": [
        "print(len(news_data))"
      ],
      "metadata": {
        "colab": {
          "base_uri": "https://localhost:8080/"
        },
        "id": "jOXqLZUWRbgo",
        "outputId": "bc3cdccb-8065-49e7-fb8f-afd7c28ca83f"
      },
      "execution_count": 14,
      "outputs": [
        {
          "output_type": "stream",
          "name": "stdout",
          "text": [
            "209527\n"
          ]
        }
      ]
    },
    {
      "cell_type": "markdown",
      "source": [
        "### ***Extracting only desired categories***"
      ],
      "metadata": {
        "id": "LV7juw_pRfuI"
      }
    },
    {
      "cell_type": "code",
      "source": [
        "#unbalanced data we have down other category\n",
        "min_samples=500\n",
        "df_comedy=news_data[news_data.category=='COMEDY']\n",
        "df_SPORTS =news_data[news_data.category=='SPORTS']\n",
        "df_CRIME  =news_data[news_data.category=='CRIME']\n",
        "df_ENTER =news_data[news_data.category=='ENTERTAINMENT']\n",
        "df_EDU =news_data[news_data.category=='EDUCATION']\n",
        "df_POLITICS =news_data[news_data.category=='POLITICS']\n",
        "df_BUSSINESS =news_data[news_data.category=='BUSINESS'].sample(350,random_state=2020)\n",
        "df_MEDIA =news_data[news_data.category=='MEDIA'].sample(220,random_state=2020)\n",
        "df_GREEN =news_data[news_data.category=='GREEN'].sample(370,random_state=2020)\n",
        "df_TECH =news_data[news_data.category=='TECH'].sample(140,random_state=2020)\n",
        "df_ENVIRONMENT =news_data[news_data.category=='ENVIRONMENT'].sample(120,random_state=2020)\n",
        "\n",
        "df_balanced=pd.concat([df_comedy,df_SPORTS,df_CRIME,df_ENTER,df_POLITICS, df_BUSSINESS, df_MEDIA, df_GREEN, df_TECH, df_ENVIRONMENT, df_EDU],axis=0)\n",
        "df_balanced.category.value_counts()\n",
        "news_data = df_balanced"
      ],
      "metadata": {
        "id": "gvNZ7IhuRe5A"
      },
      "execution_count": 15,
      "outputs": []
    },
    {
      "cell_type": "code",
      "source": [
        "news_data.category.value_counts()"
      ],
      "metadata": {
        "colab": {
          "base_uri": "https://localhost:8080/",
          "height": 460
        },
        "id": "ZFAvT1ZqaT6t",
        "outputId": "8f3c5bc9-37e7-4f7d-e948-8743a68e0f9a"
      },
      "execution_count": 16,
      "outputs": [
        {
          "output_type": "execute_result",
          "data": {
            "text/plain": [
              "category\n",
              "POLITICS         35602\n",
              "ENTERTAINMENT    17362\n",
              "COMEDY            5400\n",
              "SPORTS            5077\n",
              "CRIME             3562\n",
              "EDUCATION         1014\n",
              "GREEN              370\n",
              "BUSINESS           350\n",
              "MEDIA              220\n",
              "TECH               140\n",
              "ENVIRONMENT        120\n",
              "Name: count, dtype: int64"
            ],
            "text/html": [
              "<div>\n",
              "<style scoped>\n",
              "    .dataframe tbody tr th:only-of-type {\n",
              "        vertical-align: middle;\n",
              "    }\n",
              "\n",
              "    .dataframe tbody tr th {\n",
              "        vertical-align: top;\n",
              "    }\n",
              "\n",
              "    .dataframe thead th {\n",
              "        text-align: right;\n",
              "    }\n",
              "</style>\n",
              "<table border=\"1\" class=\"dataframe\">\n",
              "  <thead>\n",
              "    <tr style=\"text-align: right;\">\n",
              "      <th></th>\n",
              "      <th>count</th>\n",
              "    </tr>\n",
              "    <tr>\n",
              "      <th>category</th>\n",
              "      <th></th>\n",
              "    </tr>\n",
              "  </thead>\n",
              "  <tbody>\n",
              "    <tr>\n",
              "      <th>POLITICS</th>\n",
              "      <td>35602</td>\n",
              "    </tr>\n",
              "    <tr>\n",
              "      <th>ENTERTAINMENT</th>\n",
              "      <td>17362</td>\n",
              "    </tr>\n",
              "    <tr>\n",
              "      <th>COMEDY</th>\n",
              "      <td>5400</td>\n",
              "    </tr>\n",
              "    <tr>\n",
              "      <th>SPORTS</th>\n",
              "      <td>5077</td>\n",
              "    </tr>\n",
              "    <tr>\n",
              "      <th>CRIME</th>\n",
              "      <td>3562</td>\n",
              "    </tr>\n",
              "    <tr>\n",
              "      <th>EDUCATION</th>\n",
              "      <td>1014</td>\n",
              "    </tr>\n",
              "    <tr>\n",
              "      <th>GREEN</th>\n",
              "      <td>370</td>\n",
              "    </tr>\n",
              "    <tr>\n",
              "      <th>BUSINESS</th>\n",
              "      <td>350</td>\n",
              "    </tr>\n",
              "    <tr>\n",
              "      <th>MEDIA</th>\n",
              "      <td>220</td>\n",
              "    </tr>\n",
              "    <tr>\n",
              "      <th>TECH</th>\n",
              "      <td>140</td>\n",
              "    </tr>\n",
              "    <tr>\n",
              "      <th>ENVIRONMENT</th>\n",
              "      <td>120</td>\n",
              "    </tr>\n",
              "  </tbody>\n",
              "</table>\n",
              "</div><br><label><b>dtype:</b> int64</label>"
            ]
          },
          "metadata": {},
          "execution_count": 16
        }
      ]
    },
    {
      "cell_type": "markdown",
      "source": [
        "### ***Cleaning the news feed***"
      ],
      "metadata": {
        "id": "1v1FvQlwR9AB"
      }
    },
    {
      "cell_type": "code",
      "source": [
        "nltk.download('punkt')\n",
        "nltk.download('punkt_tab')\n",
        "nltk.download('stopwords')\n",
        "# Apply the clean_text_column function to the text_column in the DataFrame\n",
        "news_data['headline'] = news_data['headline'].apply(cleaned_desc_column)\n",
        "news_data.head()"
      ],
      "metadata": {
        "colab": {
          "base_uri": "https://localhost:8080/",
          "height": 315
        },
        "id": "cWmFxZjqR8kS",
        "outputId": "f55c302f-d8ff-4be6-f024-5e98e76a7e6f"
      },
      "execution_count": 17,
      "outputs": [
        {
          "output_type": "stream",
          "name": "stderr",
          "text": [
            "[nltk_data] Downloading package punkt to /root/nltk_data...\n",
            "[nltk_data]   Package punkt is already up-to-date!\n",
            "[nltk_data] Downloading package punkt_tab to /root/nltk_data...\n",
            "[nltk_data]   Package punkt_tab is already up-to-date!\n",
            "[nltk_data] Downloading package stopwords to /root/nltk_data...\n",
            "[nltk_data]   Package stopwords is already up-to-date!\n"
          ]
        },
        {
          "output_type": "execute_result",
          "data": {
            "text/plain": [
              "                                              headline category\n",
              "2    23 Of The Funniest Tweets About Cats And Dogs ...   COMEDY\n",
              "344  23 Of The Funniest Tweets About Cats And Dogs ...   COMEDY\n",
              "466  20 Of The Funniest Tweets About Cats And Dogs ...   COMEDY\n",
              "510  Seth Meyers Has A Field Day With Rudy Giuliani...   COMEDY\n",
              "536  25 Of The Funniest Tweets About Cats And Dogs ...   COMEDY"
            ],
            "text/html": [
              "\n",
              "  <div id=\"df-21491321-6a12-46ce-9da4-f5339d337a5a\" class=\"colab-df-container\">\n",
              "    <div>\n",
              "<style scoped>\n",
              "    .dataframe tbody tr th:only-of-type {\n",
              "        vertical-align: middle;\n",
              "    }\n",
              "\n",
              "    .dataframe tbody tr th {\n",
              "        vertical-align: top;\n",
              "    }\n",
              "\n",
              "    .dataframe thead th {\n",
              "        text-align: right;\n",
              "    }\n",
              "</style>\n",
              "<table border=\"1\" class=\"dataframe\">\n",
              "  <thead>\n",
              "    <tr style=\"text-align: right;\">\n",
              "      <th></th>\n",
              "      <th>headline</th>\n",
              "      <th>category</th>\n",
              "    </tr>\n",
              "  </thead>\n",
              "  <tbody>\n",
              "    <tr>\n",
              "      <th>2</th>\n",
              "      <td>23 Of The Funniest Tweets About Cats And Dogs ...</td>\n",
              "      <td>COMEDY</td>\n",
              "    </tr>\n",
              "    <tr>\n",
              "      <th>344</th>\n",
              "      <td>23 Of The Funniest Tweets About Cats And Dogs ...</td>\n",
              "      <td>COMEDY</td>\n",
              "    </tr>\n",
              "    <tr>\n",
              "      <th>466</th>\n",
              "      <td>20 Of The Funniest Tweets About Cats And Dogs ...</td>\n",
              "      <td>COMEDY</td>\n",
              "    </tr>\n",
              "    <tr>\n",
              "      <th>510</th>\n",
              "      <td>Seth Meyers Has A Field Day With Rudy Giuliani...</td>\n",
              "      <td>COMEDY</td>\n",
              "    </tr>\n",
              "    <tr>\n",
              "      <th>536</th>\n",
              "      <td>25 Of The Funniest Tweets About Cats And Dogs ...</td>\n",
              "      <td>COMEDY</td>\n",
              "    </tr>\n",
              "  </tbody>\n",
              "</table>\n",
              "</div>\n",
              "    <div class=\"colab-df-buttons\">\n",
              "\n",
              "  <div class=\"colab-df-container\">\n",
              "    <button class=\"colab-df-convert\" onclick=\"convertToInteractive('df-21491321-6a12-46ce-9da4-f5339d337a5a')\"\n",
              "            title=\"Convert this dataframe to an interactive table.\"\n",
              "            style=\"display:none;\">\n",
              "\n",
              "  <svg xmlns=\"http://www.w3.org/2000/svg\" height=\"24px\" viewBox=\"0 -960 960 960\">\n",
              "    <path d=\"M120-120v-720h720v720H120Zm60-500h600v-160H180v160Zm220 220h160v-160H400v160Zm0 220h160v-160H400v160ZM180-400h160v-160H180v160Zm440 0h160v-160H620v160ZM180-180h160v-160H180v160Zm440 0h160v-160H620v160Z\"/>\n",
              "  </svg>\n",
              "    </button>\n",
              "\n",
              "  <style>\n",
              "    .colab-df-container {\n",
              "      display:flex;\n",
              "      gap: 12px;\n",
              "    }\n",
              "\n",
              "    .colab-df-convert {\n",
              "      background-color: #E8F0FE;\n",
              "      border: none;\n",
              "      border-radius: 50%;\n",
              "      cursor: pointer;\n",
              "      display: none;\n",
              "      fill: #1967D2;\n",
              "      height: 32px;\n",
              "      padding: 0 0 0 0;\n",
              "      width: 32px;\n",
              "    }\n",
              "\n",
              "    .colab-df-convert:hover {\n",
              "      background-color: #E2EBFA;\n",
              "      box-shadow: 0px 1px 2px rgba(60, 64, 67, 0.3), 0px 1px 3px 1px rgba(60, 64, 67, 0.15);\n",
              "      fill: #174EA6;\n",
              "    }\n",
              "\n",
              "    .colab-df-buttons div {\n",
              "      margin-bottom: 4px;\n",
              "    }\n",
              "\n",
              "    [theme=dark] .colab-df-convert {\n",
              "      background-color: #3B4455;\n",
              "      fill: #D2E3FC;\n",
              "    }\n",
              "\n",
              "    [theme=dark] .colab-df-convert:hover {\n",
              "      background-color: #434B5C;\n",
              "      box-shadow: 0px 1px 3px 1px rgba(0, 0, 0, 0.15);\n",
              "      filter: drop-shadow(0px 1px 2px rgba(0, 0, 0, 0.3));\n",
              "      fill: #FFFFFF;\n",
              "    }\n",
              "  </style>\n",
              "\n",
              "    <script>\n",
              "      const buttonEl =\n",
              "        document.querySelector('#df-21491321-6a12-46ce-9da4-f5339d337a5a button.colab-df-convert');\n",
              "      buttonEl.style.display =\n",
              "        google.colab.kernel.accessAllowed ? 'block' : 'none';\n",
              "\n",
              "      async function convertToInteractive(key) {\n",
              "        const element = document.querySelector('#df-21491321-6a12-46ce-9da4-f5339d337a5a');\n",
              "        const dataTable =\n",
              "          await google.colab.kernel.invokeFunction('convertToInteractive',\n",
              "                                                    [key], {});\n",
              "        if (!dataTable) return;\n",
              "\n",
              "        const docLinkHtml = 'Like what you see? Visit the ' +\n",
              "          '<a target=\"_blank\" href=https://colab.research.google.com/notebooks/data_table.ipynb>data table notebook</a>'\n",
              "          + ' to learn more about interactive tables.';\n",
              "        element.innerHTML = '';\n",
              "        dataTable['output_type'] = 'display_data';\n",
              "        await google.colab.output.renderOutput(dataTable, element);\n",
              "        const docLink = document.createElement('div');\n",
              "        docLink.innerHTML = docLinkHtml;\n",
              "        element.appendChild(docLink);\n",
              "      }\n",
              "    </script>\n",
              "  </div>\n",
              "\n",
              "\n",
              "<div id=\"df-9b61340a-e3eb-461d-b385-2967eb823791\">\n",
              "  <button class=\"colab-df-quickchart\" onclick=\"quickchart('df-9b61340a-e3eb-461d-b385-2967eb823791')\"\n",
              "            title=\"Suggest charts\"\n",
              "            style=\"display:none;\">\n",
              "\n",
              "<svg xmlns=\"http://www.w3.org/2000/svg\" height=\"24px\"viewBox=\"0 0 24 24\"\n",
              "     width=\"24px\">\n",
              "    <g>\n",
              "        <path d=\"M19 3H5c-1.1 0-2 .9-2 2v14c0 1.1.9 2 2 2h14c1.1 0 2-.9 2-2V5c0-1.1-.9-2-2-2zM9 17H7v-7h2v7zm4 0h-2V7h2v10zm4 0h-2v-4h2v4z\"/>\n",
              "    </g>\n",
              "</svg>\n",
              "  </button>\n",
              "\n",
              "<style>\n",
              "  .colab-df-quickchart {\n",
              "      --bg-color: #E8F0FE;\n",
              "      --fill-color: #1967D2;\n",
              "      --hover-bg-color: #E2EBFA;\n",
              "      --hover-fill-color: #174EA6;\n",
              "      --disabled-fill-color: #AAA;\n",
              "      --disabled-bg-color: #DDD;\n",
              "  }\n",
              "\n",
              "  [theme=dark] .colab-df-quickchart {\n",
              "      --bg-color: #3B4455;\n",
              "      --fill-color: #D2E3FC;\n",
              "      --hover-bg-color: #434B5C;\n",
              "      --hover-fill-color: #FFFFFF;\n",
              "      --disabled-bg-color: #3B4455;\n",
              "      --disabled-fill-color: #666;\n",
              "  }\n",
              "\n",
              "  .colab-df-quickchart {\n",
              "    background-color: var(--bg-color);\n",
              "    border: none;\n",
              "    border-radius: 50%;\n",
              "    cursor: pointer;\n",
              "    display: none;\n",
              "    fill: var(--fill-color);\n",
              "    height: 32px;\n",
              "    padding: 0;\n",
              "    width: 32px;\n",
              "  }\n",
              "\n",
              "  .colab-df-quickchart:hover {\n",
              "    background-color: var(--hover-bg-color);\n",
              "    box-shadow: 0 1px 2px rgba(60, 64, 67, 0.3), 0 1px 3px 1px rgba(60, 64, 67, 0.15);\n",
              "    fill: var(--button-hover-fill-color);\n",
              "  }\n",
              "\n",
              "  .colab-df-quickchart-complete:disabled,\n",
              "  .colab-df-quickchart-complete:disabled:hover {\n",
              "    background-color: var(--disabled-bg-color);\n",
              "    fill: var(--disabled-fill-color);\n",
              "    box-shadow: none;\n",
              "  }\n",
              "\n",
              "  .colab-df-spinner {\n",
              "    border: 2px solid var(--fill-color);\n",
              "    border-color: transparent;\n",
              "    border-bottom-color: var(--fill-color);\n",
              "    animation:\n",
              "      spin 1s steps(1) infinite;\n",
              "  }\n",
              "\n",
              "  @keyframes spin {\n",
              "    0% {\n",
              "      border-color: transparent;\n",
              "      border-bottom-color: var(--fill-color);\n",
              "      border-left-color: var(--fill-color);\n",
              "    }\n",
              "    20% {\n",
              "      border-color: transparent;\n",
              "      border-left-color: var(--fill-color);\n",
              "      border-top-color: var(--fill-color);\n",
              "    }\n",
              "    30% {\n",
              "      border-color: transparent;\n",
              "      border-left-color: var(--fill-color);\n",
              "      border-top-color: var(--fill-color);\n",
              "      border-right-color: var(--fill-color);\n",
              "    }\n",
              "    40% {\n",
              "      border-color: transparent;\n",
              "      border-right-color: var(--fill-color);\n",
              "      border-top-color: var(--fill-color);\n",
              "    }\n",
              "    60% {\n",
              "      border-color: transparent;\n",
              "      border-right-color: var(--fill-color);\n",
              "    }\n",
              "    80% {\n",
              "      border-color: transparent;\n",
              "      border-right-color: var(--fill-color);\n",
              "      border-bottom-color: var(--fill-color);\n",
              "    }\n",
              "    90% {\n",
              "      border-color: transparent;\n",
              "      border-bottom-color: var(--fill-color);\n",
              "    }\n",
              "  }\n",
              "</style>\n",
              "\n",
              "  <script>\n",
              "    async function quickchart(key) {\n",
              "      const quickchartButtonEl =\n",
              "        document.querySelector('#' + key + ' button');\n",
              "      quickchartButtonEl.disabled = true;  // To prevent multiple clicks.\n",
              "      quickchartButtonEl.classList.add('colab-df-spinner');\n",
              "      try {\n",
              "        const charts = await google.colab.kernel.invokeFunction(\n",
              "            'suggestCharts', [key], {});\n",
              "      } catch (error) {\n",
              "        console.error('Error during call to suggestCharts:', error);\n",
              "      }\n",
              "      quickchartButtonEl.classList.remove('colab-df-spinner');\n",
              "      quickchartButtonEl.classList.add('colab-df-quickchart-complete');\n",
              "    }\n",
              "    (() => {\n",
              "      let quickchartButtonEl =\n",
              "        document.querySelector('#df-9b61340a-e3eb-461d-b385-2967eb823791 button');\n",
              "      quickchartButtonEl.style.display =\n",
              "        google.colab.kernel.accessAllowed ? 'block' : 'none';\n",
              "    })();\n",
              "  </script>\n",
              "</div>\n",
              "\n",
              "    </div>\n",
              "  </div>\n"
            ],
            "application/vnd.google.colaboratory.intrinsic+json": {
              "type": "dataframe",
              "variable_name": "news_data",
              "summary": "{\n  \"name\": \"news_data\",\n  \"rows\": 69217,\n  \"fields\": [\n    {\n      \"column\": \"headline\",\n      \"properties\": {\n        \"dtype\": \"string\",\n        \"num_unique_values\": 68978,\n        \"samples\": [\n          \"Justin Bieber Brought Selena Gomez To Jamaica For His Dad Wedding\",\n          \"The Declaration Independence A Revolutionary Document\",\n          \"4 Bikers Shot In Waco With Same Rifle Type Police Use\"\n        ],\n        \"semantic_type\": \"\",\n        \"description\": \"\"\n      }\n    },\n    {\n      \"column\": \"category\",\n      \"properties\": {\n        \"dtype\": \"category\",\n        \"num_unique_values\": 11,\n        \"samples\": [\n          \"BUSINESS\",\n          \"COMEDY\",\n          \"ENVIRONMENT\"\n        ],\n        \"semantic_type\": \"\",\n        \"description\": \"\"\n      }\n    }\n  ]\n}"
            }
          },
          "metadata": {},
          "execution_count": 17
        }
      ]
    },
    {
      "cell_type": "markdown",
      "source": [
        "### ***Splitting the data into Training and Testing Dataset (80-20 split)***"
      ],
      "metadata": {
        "id": "rRUtgonDSeLD"
      }
    },
    {
      "cell_type": "code",
      "source": [
        "#getting the category we need for testing\n",
        "X = news_data['headline']\n",
        "y = news_data['category']\n",
        "\n",
        "import sklearn\n",
        "from sklearn.model_selection import train_test_split\n",
        "\n",
        "X_train, X_test, y_train, y_test = \\\n",
        "train_test_split(X, y, test_size = 0.20, random_state = 90)\n",
        "print(X_train.shape)\n",
        "print(X_test.shape)"
      ],
      "metadata": {
        "colab": {
          "base_uri": "https://localhost:8080/"
        },
        "id": "OmUZlLuBSYCb",
        "outputId": "63791ab6-d21f-40fe-b6d5-6ac67a889e67"
      },
      "execution_count": 18,
      "outputs": [
        {
          "output_type": "stream",
          "name": "stdout",
          "text": [
            "(55373,)\n",
            "(13844,)\n"
          ]
        }
      ]
    },
    {
      "cell_type": "markdown",
      "source": [
        "### ***Using Logistic Regression for Prediction***"
      ],
      "metadata": {
        "id": "U5grpv7GS1lg"
      }
    },
    {
      "cell_type": "code",
      "source": [
        "from sklearn.feature_extraction.text import TfidfVectorizer\n",
        "from sklearn.linear_model import LogisticRegression\n",
        "\n",
        "from sklearn.pipeline import Pipeline\n",
        "lr = Pipeline([('tfidf', TfidfVectorizer()), ('clf', LogisticRegression(max_iter = 1000)),])\n",
        "\n",
        "# Train the logistic regression model on the training set\n",
        "lr.fit(X_train,y_train)\n",
        "\n",
        "# Make predictions on the test set\n",
        "y_pred = lr.predict(X_test)"
      ],
      "metadata": {
        "id": "RPc6db0vS1La"
      },
      "execution_count": 19,
      "outputs": []
    },
    {
      "cell_type": "markdown",
      "source": [
        "### ***Calculating the accuracy***"
      ],
      "metadata": {
        "id": "JqVZv3DFTJnA"
      }
    },
    {
      "cell_type": "code",
      "source": [
        "from sklearn.metrics import accuracy_score\n",
        "print(f\"Accuracy is: {accuracy_score(y_pred,y_test)}\")"
      ],
      "metadata": {
        "colab": {
          "base_uri": "https://localhost:8080/"
        },
        "id": "_OzXRLqXTJDc",
        "outputId": "1a1c2479-5165-4466-ab1c-2b363c3d984c"
      },
      "execution_count": 20,
      "outputs": [
        {
          "output_type": "stream",
          "name": "stdout",
          "text": [
            "Accuracy is: 0.8275787344698065\n"
          ]
        }
      ]
    },
    {
      "cell_type": "code",
      "source": [
        "summarized_news\n",
        "for n in summarized_news:\n",
        "  n[\"category\"] = lr.predict([n[\"content\"]])[0]\n",
        "\n",
        "summarized_news[0]"
      ],
      "metadata": {
        "colab": {
          "base_uri": "https://localhost:8080/"
        },
        "id": "djyaAEZzTUbx",
        "outputId": "3b1de74d-ff82-409f-91b5-787c9f7c2a1f"
      },
      "execution_count": 21,
      "outputs": [
        {
          "output_type": "execute_result",
          "data": {
            "text/plain": [
              "{'title': \"Delhi doctors demand 'justice for Abhaya', safety measures for healthcare workers\",\n",
              " 'content': \"Delhi doctors demand 'justice for Abhaya', safety measures for healthcare workers. Doctors held a protest outside the Banga Bhawan, holding posters and banners. They demanded swift justice for the murdered trainee doctor. The protest was called to demand swift justice and safety measures.\",\n",
              " 'category': 'POLITICS'}"
            ]
          },
          "metadata": {},
          "execution_count": 21
        }
      ]
    },
    {
      "cell_type": "markdown",
      "source": [
        "# **Creating PDFs**"
      ],
      "metadata": {
        "id": "FauVOTfA2hR1"
      }
    },
    {
      "cell_type": "code",
      "source": [
        "!pip install reportlab"
      ],
      "metadata": {
        "colab": {
          "base_uri": "https://localhost:8080/"
        },
        "id": "ZQFm--X4ftCE",
        "outputId": "38da3a45-bc93-4a26-ca24-877b0f765275"
      },
      "execution_count": 22,
      "outputs": [
        {
          "output_type": "stream",
          "name": "stdout",
          "text": [
            "Requirement already satisfied: reportlab in /usr/local/lib/python3.10/dist-packages (4.2.5)\n",
            "Requirement already satisfied: pillow>=9.0.0 in /usr/local/lib/python3.10/dist-packages (from reportlab) (10.4.0)\n",
            "Requirement already satisfied: chardet in /usr/local/lib/python3.10/dist-packages (from reportlab) (5.2.0)\n"
          ]
        }
      ]
    },
    {
      "cell_type": "markdown",
      "source": [
        "### ***PDF of original news***"
      ],
      "metadata": {
        "id": "-p3YU8Q0i5_g"
      }
    },
    {
      "cell_type": "code",
      "execution_count": 23,
      "metadata": {
        "id": "BEUgbPHvltUZ",
        "colab": {
          "base_uri": "https://localhost:8080/",
          "height": 36
        },
        "outputId": "3491cab1-1545-4543-f0dd-242c0cbd2824"
      },
      "outputs": [
        {
          "output_type": "execute_result",
          "data": {
            "text/plain": [
              "'sample_data/original_news.pdf'"
            ],
            "application/vnd.google.colaboratory.intrinsic+json": {
              "type": "string"
            }
          },
          "metadata": {},
          "execution_count": 23
        }
      ],
      "source": [
        "from reportlab.lib.pagesizes import A4\n",
        "from reportlab.lib import colors\n",
        "from reportlab.lib.styles import getSampleStyleSheet\n",
        "from reportlab.platypus import SimpleDocTemplate, Paragraph, Spacer\n",
        "from reportlab.lib.units import inch\n",
        "\n",
        "\n",
        "\n",
        "# Create a PDF document\n",
        "pdf_output_path = \"sample_data/original_news.pdf\"\n",
        "pdf = SimpleDocTemplate(pdf_output_path, pagesize=A4)\n",
        "\n",
        "# Get default style for text\n",
        "styles = getSampleStyleSheet()\n",
        "content = []\n",
        "\n",
        "# Add news titles and contents in sequence (without category)\n",
        "for news in news_contents:\n",
        "    # Add the news title\n",
        "    content.append(Paragraph(f\"<b>Title:</b> {news['title']}\", styles['Heading2']))\n",
        "\n",
        "    # Add the news content\n",
        "    content.append(Paragraph(f\"<b>Content:</b> {news['content']}\", styles['BodyText']))\n",
        "\n",
        "    # Add space between articles\n",
        "    content.append(Spacer(1, 0.2 * inch))\n",
        "\n",
        "# Build the PDF\n",
        "pdf.build(content)\n",
        "\n",
        "pdf_output_path"
      ]
    },
    {
      "cell_type": "markdown",
      "source": [
        "### ***PDF of summarized news***"
      ],
      "metadata": {
        "id": "9NYSIkR6jBAL"
      }
    },
    {
      "cell_type": "code",
      "source": [
        "# Create a PDF document\n",
        "pdf_output_path = \"sample_data/summarized_news.pdf\"\n",
        "pdf = SimpleDocTemplate(pdf_output_path, pagesize=A4)\n",
        "\n",
        "# Get default style for text\n",
        "styles = getSampleStyleSheet()\n",
        "content = []\n",
        "\n",
        "# Group news by category\n",
        "categories = {}\n",
        "for news in summarized_news:\n",
        "    category = news['category']\n",
        "    if category not in categories:\n",
        "        categories[category] = []\n",
        "    categories[category].append(news)\n",
        "\n",
        "# Add content to the PDF\n",
        "for category, news_list in categories.items():\n",
        "    # Add category title\n",
        "    content.append(Paragraph(f\"<b>Category: {category}</b>\", styles['Title']))\n",
        "    content.append(Spacer(1, 0.2 * inch))\n",
        "\n",
        "    # Add news titles and contents under the category\n",
        "    for news in news_list:\n",
        "        content.append(Paragraph(f\"<b>Title:</b> {news['title']}\", styles['Heading2']))\n",
        "        content.append(Paragraph(f\"<b>Content:</b> {news['content']}\", styles['BodyText']))\n",
        "        content.append(Spacer(1, 0.2 * inch))\n",
        "\n",
        "# Build the PDF\n",
        "pdf.build(content)\n",
        "\n",
        "pdf_output_path"
      ],
      "metadata": {
        "colab": {
          "base_uri": "https://localhost:8080/",
          "height": 36
        },
        "id": "v7uProxhhGQ6",
        "outputId": "84d11931-342c-40fc-ae5e-8dc3bd8d1ae4"
      },
      "execution_count": 24,
      "outputs": [
        {
          "output_type": "execute_result",
          "data": {
            "text/plain": [
              "'sample_data/summarized_news.pdf'"
            ],
            "application/vnd.google.colaboratory.intrinsic+json": {
              "type": "string"
            }
          },
          "metadata": {},
          "execution_count": 24
        }
      ]
    }
  ],
  "metadata": {
    "colab": {
      "provenance": []
    },
    "kernelspec": {
      "display_name": "Python 3",
      "name": "python3"
    },
    "language_info": {
      "name": "python"
    }
  },
  "nbformat": 4,
  "nbformat_minor": 0
}